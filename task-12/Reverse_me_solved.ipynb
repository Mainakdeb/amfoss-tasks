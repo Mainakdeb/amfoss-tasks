{
 "cells": [
  {
   "cell_type": "markdown",
   "metadata": {},
   "source": [
    "# Initial code is converted to python3 \n",
    "***"
   ]
  },
  {
   "cell_type": "code",
   "execution_count": 31,
   "metadata": {},
   "outputs": [
    {
     "name": "stdout",
     "output_type": "stream",
     "text": [
      "Decode the following string to find the flag:\n",
      "667b6c7d63677f3c733c7f323c3c7b333e7b3c3c7f3e7b333e3232393c3d3268\n",
      "Enter what you got after decoding:\n",
      "inctfjr3v3r533n61n33r1n61550345y\n",
      "Yeah!....You are a Genius\n"
     ]
    }
   ],
   "source": [
    "# modded for python3 \n",
    "import string\n",
    "\n",
    "\n",
    "def encode(x):\n",
    "    s=x.encode().hex()   \n",
    "    return(s)   \n",
    "\n",
    "def xor(x):\n",
    "    return ''.join(chr(ord(i)^10) for i in x)\n",
    "\n",
    "def shift(x):\n",
    "    upper = string.ascii_uppercase\n",
    "    lower = string.ascii_lowercase\n",
    "    digits = string.digits\n",
    "    n = []\n",
    "    for i in x:\n",
    "        if i.isupper() is True:\n",
    "            n.append(upper[(upper.index(i)+3)%26])\n",
    "        elif i.islower() is True:\n",
    "            n.append(lower[(lower.index(i)+3)%26])\n",
    "        elif i.isdigit() is True:\n",
    "            n.append(digits[(digits.index(i)+3)%10])\n",
    "    return n\n",
    "\n",
    "\n",
    "if __name__==\"__main__\":\n",
    "    print (\"Decode the following string to find the flag:\")\n",
    "    print (\"667b6c7d63677f3c733c7f323c3c7b333e7b3c3c7f3e7b333e3232393c3d3268\")\n",
    "    print (\"Enter what you got after decoding:\")\n",
    "\n",
    "    arr = input(\"\")\n",
    "\n",
    "    your_code = encode(xor(shift(arr)))\n",
    "\n",
    "    if your_code == \"667b6c7d63677f3c733c7f323c3c7b333e7b3c3c7f3e7b333e3232393c3d3268\":\n",
    "        print (\"Yeah!....You are a Genius\")\n",
    "    else:\n",
    "        print (\"Oops....Try again\")\n",
    "        print (\"Looking at the source code might help\")"
   ]
  },
  {
   "cell_type": "code",
   "execution_count": 36,
   "metadata": {},
   "outputs": [],
   "source": [
    "def unencode(x):\n",
    "    z= bytes.fromhex(x).decode('utf-8')\n",
    "    return(z)\n",
    "\n",
    "def unxor(x):\n",
    "    return ''.join(chr(ord(i)^10) for i in x)\n",
    "\n",
    "def unshift(x):\n",
    "    upper = string.ascii_uppercase\n",
    "    lower = string.ascii_lowercase\n",
    "    digits = string.digits\n",
    "    f=[]\n",
    "    for t in x:\n",
    "        if t.isupper() is True:\n",
    "            f.append(upper[(upper.index(t)-3)%26])\n",
    "        elif t.islower() is True:\n",
    "            f.append(lower[(lower.index(t)-3)%26])\n",
    "        elif t.isdigit() is True:\n",
    "            f.append(digits[(digits.index(t)-3)%10])\n",
    "    # initialization of string to \"\" \n",
    "    new = \"\" \n",
    "  \n",
    "    # traverse in the string  \n",
    "    for x in f: \n",
    "        new += x  \n",
    "  \n",
    "    # return string  \n",
    "    return new "
   ]
  },
  {
   "cell_type": "code",
   "execution_count": 37,
   "metadata": {},
   "outputs": [
    {
     "name": "stdout",
     "output_type": "stream",
     "text": [
      "inctfjr3v3r533n61n33r1n61550345y\n"
     ]
    }
   ],
   "source": [
    "print(unshift(unxor(unencode(\"667b6c7d63677f3c733c7f323c3c7b333e7b3c3c7f3e7b333e3232393c3d3268\"))))\n",
    "# prints the flag\n",
    "# inctfjrreverseengineeringissoeasy\n",
    "# copy paste the output"
   ]
  }
 ],
 "metadata": {
  "kernelspec": {
   "display_name": "Python 3",
   "language": "python",
   "name": "python3"
  },
  "language_info": {
   "codemirror_mode": {
    "name": "ipython",
    "version": 3
   },
   "file_extension": ".py",
   "mimetype": "text/x-python",
   "name": "python",
   "nbconvert_exporter": "python",
   "pygments_lexer": "ipython3",
   "version": "3.7.3"
  }
 },
 "nbformat": 4,
 "nbformat_minor": 2
}
